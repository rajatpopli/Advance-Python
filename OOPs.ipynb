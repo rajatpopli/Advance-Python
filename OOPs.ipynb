{
 "cells": [
  {
   "cell_type": "code",
   "execution_count": 39,
   "id": "41e44c6a-18ae-4fdb-8864-2d1f49c870f9",
   "metadata": {},
   "outputs": [
    {
     "name": "stdout",
     "output_type": "stream",
     "text": [
      "40\n",
      "{'brand': 'classic', 'price': 258000, 'feature': 'push_strt'}\n",
      "classic is very costly 258000 and his feature is push_strt\n",
      "hunter is very costly 200000 and his feature is no_push_start\n"
     ]
    }
   ],
   "source": [
    "class Bike:\n",
    "    def __init__(self,brand,price,feature):\n",
    "        self.brand=brand\n",
    "        self.price=price\n",
    "        self.feature=feature\n",
    "\n",
    "    \n",
    "    def bike_details(self):\n",
    "        print(f\"{self.brand} is very costly {self.price} and his feature is {self.feature}\")\n",
    "\n",
    "feature1=\"push_strt\"\n",
    "feature2=\"no_push_start\"\n",
    "\n",
    "bike1= Bike(\"classic\",258000,feature1)\n",
    "#print(bike1.brand, bike1.price)\n",
    "\n",
    "bike2=Bike(\"hunter\",200000,feature2)\n",
    "#print(bike2.brand ,bike2.price)\n",
    "\n",
    "#bike1.bike_details()\n",
    "#print(bike1.brand)\n",
    "\n",
    "# print(bike1.__dict__)\n",
    "\n",
    "bike1.milege=40\n",
    "print(bike1.milege)\n",
    "\n",
    "\n",
    "del bike1.milege\n",
    "print(bike1.__dict__)\n",
    "\n",
    "bike1.bike_details()\n",
    "bike2.bike_details()\n",
    "\n",
    "    \n",
    "\n",
    "         "
   ]
  },
  {
   "cell_type": "code",
   "execution_count": null,
   "id": "b6a412e5-1d15-4fca-a9dc-1c6649393efd",
   "metadata": {},
   "outputs": [],
   "source": [
    "#abstraction-hidden uneseecry things\n",
    "#encapsulation\n",
    "#inheritence\n",
    "#polymorphism"
   ]
  },
  {
   "cell_type": "code",
   "execution_count": 47,
   "id": "347bf201-3ee4-4a52-b8ad-c70cbc66a0a8",
   "metadata": {},
   "outputs": [
    {
     "name": "stdout",
     "output_type": "stream",
     "text": [
      "the sum of the: 11\n",
      "the sum of the: 110\n"
     ]
    }
   ],
   "source": [
    "def add2numbers(a,b):\n",
    "    result=(a+b)\n",
    "    print(\"the sum of the:\",result)\n",
    "\n",
    "add2numbers(3,8)\n",
    "\n",
    "add2numbers(a=10,b=100)"
   ]
  },
  {
   "cell_type": "code",
   "execution_count": 1,
   "id": "a858ebbe-0fa4-497b-9868-bb273eaf626f",
   "metadata": {},
   "outputs": [
    {
     "ename": "SyntaxError",
     "evalue": "incomplete input (2162669785.py, line 2)",
     "output_type": "error",
     "traceback": [
      "\u001b[1;36m  Cell \u001b[1;32mIn[1], line 2\u001b[1;36m\u001b[0m\n\u001b[1;33m    def __init__(self,name,grade,percentage):\u001b[0m\n\u001b[1;37m                                             ^\u001b[0m\n\u001b[1;31mSyntaxError\u001b[0m\u001b[1;31m:\u001b[0m incomplete input\n"
     ]
    }
   ],
   "source": [
    "class Graduate(Bike):\n",
    "    def __init__(self,name,grade):\n",
    "        super().__init__(brand,price)"
   ]
  },
  {
   "cell_type": "code",
   "execution_count": null,
   "id": "10249239-f87c-4b37-9b59-40cdfe65bdb1",
   "metadata": {},
   "outputs": [],
   "source": []
  }
 ],
 "metadata": {
  "kernelspec": {
   "display_name": "Python 3 (ipykernel)",
   "language": "python",
   "name": "python3"
  },
  "language_info": {
   "codemirror_mode": {
    "name": "ipython",
    "version": 3
   },
   "file_extension": ".py",
   "mimetype": "text/x-python",
   "name": "python",
   "nbconvert_exporter": "python",
   "pygments_lexer": "ipython3",
   "version": "3.12.4"
  }
 },
 "nbformat": 4,
 "nbformat_minor": 5
}
